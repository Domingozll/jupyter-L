{
 "cells": [
  {
   "cell_type": "markdown",
   "id": "1d355d49-d223-4fab-a13e-b4eed16f08e8",
   "metadata": {},
   "source": [
    "# 1、Python基础语法\n"
   ]
  },
  {
   "cell_type": "markdown",
   "id": "17b3e750-c0be-4350-92ed-cd5275a83edc",
   "metadata": {},
   "source": [
    "## python关键字"
   ]
  },
  {
   "cell_type": "code",
   "execution_count": 3,
   "id": "df59bde8-d28a-4fe8-83ef-449aad533701",
   "metadata": {},
   "outputs": [
    {
     "name": "stdout",
     "output_type": "stream",
     "text": [
      "['False', 'None', 'True', 'and', 'as', 'assert', 'async', 'await', 'break', 'class', 'continue', 'def', 'del', 'elif', 'else', 'except', 'finally', 'for', 'from', 'global', 'if', 'import', 'in', 'is', 'lambda', 'nonlocal', 'not', 'or', 'pass', 'raise', 'return', 'try', 'while', 'with', 'yield']\n"
     ]
    }
   ],
   "source": [
    "import keyword\n",
    "\n",
    "#打印python所有关键字列表\n",
    "print(keyword.kwlist)\n",
    "\n",
    "# ['False', 'None', 'True', 'and', 'as', 'assert', 'async', 'await', 'break', 'class', \n",
    "#'continue', 'def', 'del', 'elif', 'else', 'except', 'finally', 'for', 'from', 'global', \n",
    "#'if', 'import', 'in', 'is', 'lambda', 'nonlocal', 'not', 'or', 'pass', 'raise', 'return', \n",
    "#'try', 'while', 'with', 'yield']\n"
   ]
  },
  {
   "cell_type": "markdown",
   "id": "2fb4ac17-b958-4e95-9672-07da360952ad",
   "metadata": {},
   "source": [
    "## 缩进"
   ]
  },
  {
   "cell_type": "code",
   "execution_count": 22,
   "id": "9fd78db3-c537-41b0-b249-c8e46ab260c4",
   "metadata": {},
   "outputs": [
    {
     "name": "stdout",
     "output_type": "stream",
     "text": [
      "hahah\n"
     ]
    }
   ],
   "source": [
    "if 2>1:\n",
    "#print(\"hahah\")\n",
    "\n",
    "#不加空格报错\n",
    "#Cell In[5], line 2\n",
    "#    print(\"hahah\")\n",
    "#    ^\n",
    "#IndentationError: expected an indented block after 'if' statement on line 1\n",
    "\n",
    "#需要加空格\n",
    " print(\"hahah\")\n"
   ]
  },
  {
   "cell_type": "markdown",
   "id": "aa0fbad6-980a-44db-ba3c-5b4d2ad46407",
   "metadata": {},
   "source": [
    "## 多行语句"
   ]
  },
  {
   "cell_type": "code",
   "execution_count": 21,
   "id": "39b7caa7-28c5-43e1-8eb4-cb15e5cf46d3",
   "metadata": {},
   "outputs": [
    {
     "name": "stdout",
     "output_type": "stream",
     "text": [
      "d: 6\n",
      "ccc: [1, 2, 3, 4, 5, 6]\n",
      "fff: (1, 2, 3, 4, 5, 6)\n",
      "xxx: {1, 2, 3, 4, 5, 6}\n"
     ]
    }
   ],
   "source": [
    "a = 1\n",
    "b = 2\n",
    "c = 3\n",
    "#d = a + \n",
    "#    b + \n",
    "#    c\n",
    "#print(d)\n",
    "\n",
    "#Cell In[10], line 4\n",
    "#    d = a +\n",
    "#            ^\n",
    "#SyntaxError: invalid syntax\n",
    "\n",
    "# 换行需要加 \\\n",
    "d = a + \\\n",
    "    b + \\\n",
    "    c\n",
    "print(\"d:\",d)\n",
    "\n",
    "# []、()、{} 内换行不需要加 \\\n",
    "ccc = [1,2,\n",
    "       3,4,\n",
    "       5,6]\n",
    "\n",
    "print(\"ccc:\",ccc)\n",
    "\n",
    "fff = (1,2,\n",
    "       3,4,\n",
    "       5,6)\n",
    "\n",
    "print(\"fff:\",fff)\n",
    "\n",
    "\n",
    "xxx = {1,2,\n",
    "       3,4,\n",
    "       5,6}\n",
    "\n",
    "print(\"xxx:\",xxx)\n"
   ]
  },
  {
   "cell_type": "markdown",
   "id": "2f10e0be-9601-4b57-8b01-f13dbeb04eb2",
   "metadata": {},
   "source": [
    "## 引号"
   ]
  },
  {
   "cell_type": "code",
   "execution_count": 54,
   "id": "d718babd-f581-4273-8a0d-9b81297c11e5",
   "metadata": {},
   "outputs": [
    {
     "name": "stdout",
     "output_type": "stream",
     "text": [
      "a1: I'm a big fan of Python.\n",
      "a2: 123456654321\n",
      "a3: We all know that 'A' and 'B' are two capital letters.\n",
      "a4: We all know that \"A\" and \"B\" are two capital letters.\n",
      "b1: We all know that 'A' and 'B' are two capital letters.\n",
      "b2: 1234567890\n",
      "c1: \n",
      "1\n",
      "2\n",
      "3\n",
      "4\n",
      "5\n",
      "6\n",
      "\n",
      "c2: \n",
      "12\n",
      "34\n",
      "56\n",
      "c3: 1 '2' 3 \"4\" 56\n"
     ]
    },
    {
     "data": {
      "text/plain": [
       "'\\n可以用来写\\n多行注释，里面的代码不会不执行\\nprint(\"c1:\",c1)\\nprint(\"c2:\",c2)\\nprint(\"c3:\",c3)\\n'"
      ]
     },
     "execution_count": 54,
     "metadata": {},
     "output_type": "execute_result"
    }
   ],
   "source": [
    "# 1、单引号 ''\n",
    "a1 = 'I\\'m a big fan of Python.'\n",
    "#换行要加 \\\n",
    "a2 = '123456\\\n",
    "654321'\n",
    "\n",
    "#里面的单引号需要加 \\ 转义符\n",
    "a3 =  'We all know that \\'A\\' and \\'B\\' are two capital letters.'\n",
    "\n",
    "#里面的双引号不用加 \\ 转义符\n",
    "a4 =  'We all know that \"A\" and \"B\" are two capital letters.'\n",
    "\n",
    "print(\"a1:\",a1)\n",
    "print(\"a2:\",a2)\n",
    "print(\"a3:\",a3)\n",
    "print(\"a4:\",a4)\n",
    "\n",
    "\n",
    "# 2、双引号\n",
    "# 里面的单引号可不加 \\ 转义符\n",
    "b1 = \"We all know that 'A' and 'B' are two capital letters.\"\n",
    "\n",
    "# 换行需要加 \\ \n",
    "b2 =  \"123456\\\n",
    "7890\"\n",
    "\n",
    "print(\"b1:\",b1)\n",
    "print(\"b2:\",b2)\n",
    "\n",
    "# 3、三引号 \"\"\" \"\"\"\n",
    "# 里面的换行不需要加 \\\n",
    "c1 = \"\"\"\n",
    "1\n",
    "2\n",
    "3\n",
    "4\n",
    "5\n",
    "6\n",
    "\"\"\"\n",
    "# 也可以加 \\n 实现换行效果\n",
    "c2 = \"\"\"\\n12\\n34\\n56\"\"\"\n",
    "\n",
    "# 里面的单引号和双引号都不需要加 \\ 转义符\n",
    "c3 = \"\"\"1 '2' 3 \"4\" 56\"\"\"\n",
    "\n",
    "print(\"c1:\",c1)\n",
    "print(\"c2:\",c2)\n",
    "print(\"c3:\",c3)\n",
    "\n",
    "\"\"\"\n",
    "可以用来写\n",
    "多行注释，里面的代码不会不执行\n",
    "print(\"c1:\",c1)\n",
    "print(\"c2:\",c2)\n",
    "print(\"c3:\",c3)\n",
    "\"\"\"\n"
   ]
  },
  {
   "cell_type": "markdown",
   "id": "25a8befd-c41f-48f5-b859-6f16f43839a2",
   "metadata": {},
   "source": [
    "## 输出函数与输入函数"
   ]
  },
  {
   "cell_type": "code",
   "execution_count": 56,
   "id": "af3b77f6-686d-4ee8-b262-85a0ccf1272d",
   "metadata": {},
   "outputs": [
    {
     "name": "stdin",
     "output_type": "stream",
     "text": [
      "密码： 123456\n"
     ]
    },
    {
     "name": "stdout",
     "output_type": "stream",
     "text": [
      "你的密码是： 123456\n"
     ]
    }
   ],
   "source": [
    "# print 和 input\n",
    "a = input(\"密码：\")\n",
    "print(\"你的密码是：\",a)"
   ]
  },
  {
   "cell_type": "markdown",
   "id": "40c45184-5564-4d14-88d7-5140193a5981",
   "metadata": {},
   "source": [
    "## 转义符"
   ]
  },
  {
   "cell_type": "code",
   "execution_count": 61,
   "id": "47f83e28-94fb-400b-9279-a657787704cf",
   "metadata": {},
   "outputs": [
    {
     "name": "stdout",
     "output_type": "stream",
     "text": [
      "a: 123\n",
      "456\n",
      "b: 123\t456\n",
      "456 123\n",
      "d: 12456\n",
      "e: 123\\456\n",
      "f: 123456\n"
     ]
    }
   ],
   "source": [
    "#1、\\n:换行\n",
    "print(\"a:\", \"123\\n456\")\n",
    "#2、\\t:制表符（退行）\n",
    "print(\"b:\", \"123\\t456\")\n",
    "#3、\\r:覆盖 456覆盖了 \"c:c \"\n",
    "print(\"c:c\", \"123\\r456\")\n",
    "#4、\\b:删除\n",
    "print(\"d:\", \"123\\b456\")\n",
    "#5、\\: 两个反斜杠表示一个斜杠\n",
    "print(\"e:\", \"123\\\\456\")\n",
    "#6、原字符\n",
    "print(\"f:\", \"123456\")"
   ]
  },
  {
   "cell_type": "markdown",
   "id": "252f9f38-b62f-40b3-ab4a-ca54a01f6421",
   "metadata": {},
   "source": [
    "## 变量&常量"
   ]
  },
  {
   "cell_type": "code",
   "execution_count": 64,
   "id": "3778a9e1-18e7-4eac-be0a-5f2b6148e629",
   "metadata": {},
   "outputs": [
    {
     "name": "stdout",
     "output_type": "stream",
     "text": [
      "a: 1\n",
      "b: 2\n",
      "c: 3\n",
      "DDD: 4\n"
     ]
    }
   ],
   "source": [
    "# 多变量赋值\n",
    "\n",
    "a,b,c = 1,2,3\n",
    "print(\"a:\",a)\n",
    "print(\"b:\",b)\n",
    "print(\"c:\",c)\n",
    "\n",
    "\n",
    "# 常量一般使用大写字母表示，python中没有类似java中的static final这样的关键字约束，不存在不可修改的常量，靠约定规则才确定常量\n",
    "\n",
    "DDD = 4\n",
    "\n",
    "print(\"DDD:\",DDD)"
   ]
  },
  {
   "cell_type": "markdown",
   "id": "83f3db27-5c4c-4a77-85b2-99f7b6f83bb3",
   "metadata": {},
   "source": [
    "## 数据类型\n",
    "\n",
    "***Python3 中有六个标准的数据类型：*** Number（数字）、String（字符串）、List（列表）、Tuple（元组）、Sets（集合）、Dictionary（字典）。\n",
    "\n",
    "***Python3 的六个标准数据类型中：***\n",
    "\n",
    "***不可变数据（3个）：*** Number（数字）、String（字符串）、Tuple（元组）\n",
    "\n",
    "***可变数据（3个）：*** List（列表）、Dictionary （字典）、Set（集合）。"
   ]
  },
  {
   "cell_type": "code",
   "execution_count": 65,
   "id": "49576ed5-a43b-4de3-b407-5672c3c91b3b",
   "metadata": {},
   "outputs": [
    {
     "name": "stdout",
     "output_type": "stream",
     "text": [
      "-100 100 True False 1.234 -1.324\n"
     ]
    }
   ],
   "source": [
    "# Number: int、float、bool\n",
    "# int \n",
    "a = -100\n",
    "b = 100\n",
    "c = True\n",
    "d = False\n",
    "e = 1.234\n",
    "f = -1.324\n",
    "print(a,b,c,d,e,f)\n"
   ]
  },
  {
   "cell_type": "code",
   "execution_count": 178,
   "id": "c573e7b6-9e13-42b6-b877-6fab294b5719",
   "metadata": {},
   "outputs": [
    {
     "name": "stdout",
     "output_type": "stream",
     "text": [
      "字符串String\n",
      "abc abc abc\n",
      "===================================\n",
      "\n",
      "下标获取字符\n",
      "1\n",
      "5\n",
      "4\n",
      "===================================\n",
      "\n",
      "切片\n",
      "1： 012\n",
      "2： \n",
      "3： 45\n",
      "4: 012345\n",
      "5: 024\n",
      "===================================\n",
      "\n",
      "拼接\n",
      "123abc789\n",
      "123,abc,789\n",
      "===================================\n",
      "\n",
      "格式化format\n",
      "1234abcd78910\n",
      "1234abcd78910\n",
      "===================================\n",
      "\n",
      "字符查找&计数\n",
      "1: 7\n",
      "2: 7\n",
      "3: 1\n",
      "4: 0\n",
      "===================================\n",
      "\n",
      "替换\n",
      "1234567\n",
      "\n",
      "upper & lower\n",
      "1: ABCDEFG\n",
      "2: abcdefg\n",
      "===================================\n",
      "\n",
      " split & strip\n",
      "1: ['abc666defG']\n",
      "2: ['  abc666d', 'fG  ']\n",
      "3: abc666defG\n",
      "4: abc666defG\n",
      "5: abcdefG\n",
      "===================================\n",
      "\n",
      "占位格式化(F表达式，python3.6以上支持)\n",
      "我是你爹。\n",
      "我是你88。\n",
      "我是你[8, 8]。\n",
      "我是你88。\n",
      "我是你8.800000。\n",
      "我的名字是你爸,年发68\n",
      "我的名字是你爸,年发68\n",
      "===================================\n",
      "\n",
      "字符串长度\n",
      "5\n",
      "===================================\n",
      "\n",
      "保留小数\n",
      "1.23456789\n",
      "保留两位小数是1.23\n",
      "保留三位小数是1.235\n",
      "显示两位小时的百分比是123.46%\n",
      "显示三位小时的百分比是123.457%\n",
      "今天的橘子367.68%一斤\n",
      "今天的橘子367.68%一斤\n",
      "今天的橘子586.75%一斤\n"
     ]
    }
   ],
   "source": [
    "print(\"字符串String\")\n",
    "a = 'abc'\n",
    "b = \"abc\"\n",
    "c = \"\"\"abc\"\"\"\n",
    "print(a,b,c)\n",
    "print(\"===================================\")\n",
    "\n",
    "print(\"\\n下标获取字符\")\n",
    "d = '012345'\n",
    "print(d[1])\n",
    "print(d[-1])\n",
    "print(d[-2])\n",
    "print(\"===================================\")\n",
    "\n",
    "print(\"\\n切片\")\n",
    "name = \"0123456\"\n",
    "print(\"1：\",name[0:3]) #Java中的substring(i,j)\n",
    "print(\"2：\",name[-1:-3]) # 需要满足 i < j \n",
    "print(\"3：\",name[-3:-1])\n",
    "print(\"4:\",name[0:6:1]) #[开始:结尾:步长]\n",
    "print(\"5:\",name[0:6:2]) #[开始:结尾:步长]\n",
    "print(\"===================================\")\n",
    "\n",
    "print(\"\\n拼接\")\n",
    "a = '123'\n",
    "b = \"abc\"\n",
    "c = \"789\"\n",
    "print(a + b + c)\n",
    "print(','.join((a,b,c)))\n",
    "print(\"===================================\")\n",
    "\n",
    "print(\"\\n格式化format\")\n",
    "a = '123{}' + \"abc{}\" + \"789{}\"\n",
    "print(a.format('4','d','10'))\n",
    "b = '123{1}' + \"abc{0}\" + \"789{2}\"\n",
    "print(b.format('d','4','10'))\n",
    "print(\"===================================\")\n",
    "\n",
    "print(\"\\n字符查找&计数\")\n",
    "a = \"0123456x\"\n",
    "print('1:',a.find('x'))\n",
    "print('2:',a.find('x',0,8))\n",
    "print('3:',a.count('x'))\n",
    "print('4:',a.count('x',0,7))\n",
    "print(\"===================================\")\n",
    "\n",
    "print(\"\\n替换\")\n",
    "a = '12346'\n",
    "print(a.replace('6',\"567\"))\n",
    "\n",
    "print(\"\\nupper & lower\")\n",
    "a = 'abcdefG'\n",
    "print('1:',a.upper())\n",
    "print('2:',a.upper().lower())\n",
    "print(\"===================================\")\n",
    "\n",
    "print(\"\\n split & strip\") #strip仅作用于首尾\n",
    "a = '  abc666defG  '\n",
    "b = '66abc666defG666'\n",
    "print('1:',a.split())\n",
    "print('2:',a.split('e'))\n",
    "print('3:',a.strip())\n",
    "print('4:',b.strip(\"6\"))\n",
    "print('5:',b.replace(\"6\",\"\"))\n",
    "\n",
    "print(\"===================================\")\n",
    "\n",
    "# 传统的格式化输出方法：％\n",
    "# %s：为字符占位，任意类型都可以\n",
    "# %d：为数值类型占位\n",
    "# %f：为浮点数占位\n",
    "# S1\n",
    "# \"%s---%d---%f\"%（'a'，\"b'，c'）\n",
    "# F表达式（F、f都一样，python3.6以上支持）\n",
    "# name='hah'\n",
    "# age=18\n",
    "# S3=F\"我的名字｛name｝，年发fage｝\"\n",
    "# print(s3)\n",
    "print(\"\\n占位格式化(F表达式，python3.6以上支持)\")\n",
    "a = F'我是你%s。'%('爹') # F可选\n",
    "print(a)\n",
    "b = '我是你%s。'%(88)\n",
    "print(b)\n",
    "c = F'我是你%s。'%([8,8])\n",
    "print(c)\n",
    "d = '我是你%d。'%(88)\n",
    "print(d)\n",
    "f = F'我是你%f。'%(8.8)\n",
    "print(f)\n",
    "\n",
    "name = \"你爸\"\n",
    "age = 68\n",
    "e = F'我的名字是{name},年发{age}'\n",
    "print(e)\n",
    "e = '我的名字是{},年发{}'\n",
    "print(e.format(name,age))\n",
    "print(\"===================================\")\n",
    "\n",
    "print(\"\\n字符串长度\")\n",
    "a = '12345'\n",
    "print(len(a))\n",
    "\n",
    "print(\"===================================\")\n",
    "print(\"\\n保留小数\")\n",
    "a = 1.234567890\n",
    "print(a)\n",
    "print(\"保留两位小数是{:.2f}\".format(a))\n",
    "print(\"保留三位小数是{:.3f}\".format(a))\n",
    "print(\"显示两位小时的百分比是{:.2%}\".format(a))\n",
    "print(\"显示三位小时的百分比是{:.3%}\".format(a))\n",
    "a = 3.67675\n",
    "b = 5.8675\n",
    "print(\"今天的橘子{:.2%}一斤\".format(a,b))\n",
    "print(\"今天的橘子{0:.2%}一斤\".format(a,b))\n",
    "print(\"今天的橘子{1:.2%}一斤\".format(a,b))\n"
   ]
  },
  {
   "cell_type": "markdown",
   "id": "94dce4da-11f0-422c-b275-e4753dfe395b",
   "metadata": {},
   "source": [
    "## 运算符"
   ]
  },
  {
   "cell_type": "code",
   "execution_count": 81,
   "id": "b330c449-aca4-4da1-a7c5-7edb193406fd",
   "metadata": {},
   "outputs": [
    {
     "name": "stdout",
     "output_type": "stream",
     "text": [
      "-----加法运算----- 9\n",
      "-----减法运算-- 3\n",
      "-----乘法运算---- 15\n",
      "-----除法运算----- 0.5\n",
      "-----除法运算,向下取余----- 0\n",
      "-----取模，返回两个数相除的余数----- 1\n",
      "-----幂运算，返回乘方结果----- 4\n",
      "2\n",
      "True\n",
      "1\n",
      "False\n",
      "and: False\n",
      "or: True\n",
      "not: False\n"
     ]
    }
   ],
   "source": [
    "# 数值运算\n",
    "print(\"-----加法运算-----\",4+5)\n",
    "print(\"-----减法运算--\",6-3)\n",
    "print(\"-----乘法运算----\",3*5)\n",
    "print(\"-----除法运算-----\",2/4)\n",
    "print(\"-----除法运算,向下取余-----\",2//4) #向下取整\n",
    "print(\"-----取模，返回两个数相除的余数-----\",7%3) \n",
    "print(\"-----幂运算，返回乘方结果-----\",2**2)\n",
    "\n",
    "#比较运算：>、<、>=、<=、!=、== \n",
    "#(略，同java)\n",
    "\n",
    "#bool True = 1 False = 2\n",
    "print(1+True)\n",
    "print(True)\n",
    "print(1+False)\n",
    "print(False)\n",
    "\n",
    "# 与或非\n",
    "print(\"and:\",True and False)\n",
    "print(\"or:\",True or False)\n",
    "print(\"not:\",not True)"
   ]
  },
  {
   "cell_type": "markdown",
   "id": "005f0dae-0478-4f9e-940f-38d5dfaf6e99",
   "metadata": {},
   "source": [
    "## 空值 & 函数返回值"
   ]
  },
  {
   "cell_type": "code",
   "execution_count": 83,
   "id": "7114b1c8-f88e-4ef6-b297-7a5cede17206",
   "metadata": {},
   "outputs": [
    {
     "name": "stdout",
     "output_type": "stream",
     "text": [
      "None\n",
      "None\n",
      "1234\n",
      "None\n"
     ]
    }
   ],
   "source": [
    "# 空值\n",
    "a = None\n",
    "print(None)\n",
    "print(a)\n",
    "\n",
    "# 函数返回值\n",
    "r = print(1234)\n",
    "print(r)"
   ]
  },
  {
   "cell_type": "code",
   "execution_count": null,
   "id": "6b0c635f-72d3-4a8f-b7db-734f8dfc1826",
   "metadata": {},
   "outputs": [],
   "source": []
  }
 ],
 "metadata": {
  "kernelspec": {
   "display_name": "Python 3 (ipykernel)",
   "language": "python",
   "name": "python3"
  },
  "language_info": {
   "codemirror_mode": {
    "name": "ipython",
    "version": 3
   },
   "file_extension": ".py",
   "mimetype": "text/x-python",
   "name": "python",
   "nbconvert_exporter": "python",
   "pygments_lexer": "ipython3",
   "version": "3.12.4"
  }
 },
 "nbformat": 4,
 "nbformat_minor": 5
}
