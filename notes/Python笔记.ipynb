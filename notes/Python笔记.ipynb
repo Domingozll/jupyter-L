{
 "cells": [
  {
   "cell_type": "markdown",
   "id": "1d355d49-d223-4fab-a13e-b4eed16f08e8",
   "metadata": {},
   "source": [
    "# 1、Python基础语法\n"
   ]
  },
  {
   "cell_type": "markdown",
   "id": "17b3e750-c0be-4350-92ed-cd5275a83edc",
   "metadata": {},
   "source": [
    "## python关键字"
   ]
  },
  {
   "cell_type": "code",
   "execution_count": 3,
   "id": "df59bde8-d28a-4fe8-83ef-449aad533701",
   "metadata": {},
   "outputs": [
    {
     "name": "stdout",
     "output_type": "stream",
     "text": [
      "['False', 'None', 'True', 'and', 'as', 'assert', 'async', 'await', 'break', 'class', 'continue', 'def', 'del', 'elif', 'else', 'except', 'finally', 'for', 'from', 'global', 'if', 'import', 'in', 'is', 'lambda', 'nonlocal', 'not', 'or', 'pass', 'raise', 'return', 'try', 'while', 'with', 'yield']\n"
     ]
    }
   ],
   "source": [
    "import keyword\n",
    "\n",
    "#打印python所有关键字列表\n",
    "print(keyword.kwlist)\n",
    "\n",
    "# ['False', 'None', 'True', 'and', 'as', 'assert', 'async', 'await', 'break', 'class', \n",
    "#'continue', 'def', 'del', 'elif', 'else', 'except', 'finally', 'for', 'from', 'global', \n",
    "#'if', 'import', 'in', 'is', 'lambda', 'nonlocal', 'not', 'or', 'pass', 'raise', 'return', \n",
    "#'try', 'while', 'with', 'yield']\n"
   ]
  },
  {
   "cell_type": "markdown",
   "id": "2fb4ac17-b958-4e95-9672-07da360952ad",
   "metadata": {},
   "source": [
    "## 缩进"
   ]
  },
  {
   "cell_type": "code",
   "execution_count": 22,
   "id": "9fd78db3-c537-41b0-b249-c8e46ab260c4",
   "metadata": {},
   "outputs": [
    {
     "name": "stdout",
     "output_type": "stream",
     "text": [
      "hahah\n"
     ]
    }
   ],
   "source": [
    "if 2>1:\n",
    "#print(\"hahah\")\n",
    "\n",
    "#不加空格报错\n",
    "#Cell In[5], line 2\n",
    "#    print(\"hahah\")\n",
    "#    ^\n",
    "#IndentationError: expected an indented block after 'if' statement on line 1\n",
    "\n",
    "#需要加空格\n",
    " print(\"hahah\")\n"
   ]
  },
  {
   "cell_type": "markdown",
   "id": "aa0fbad6-980a-44db-ba3c-5b4d2ad46407",
   "metadata": {},
   "source": [
    "## 多行语句"
   ]
  },
  {
   "cell_type": "code",
   "execution_count": 21,
   "id": "39b7caa7-28c5-43e1-8eb4-cb15e5cf46d3",
   "metadata": {},
   "outputs": [
    {
     "name": "stdout",
     "output_type": "stream",
     "text": [
      "d: 6\n",
      "ccc: [1, 2, 3, 4, 5, 6]\n",
      "fff: (1, 2, 3, 4, 5, 6)\n",
      "xxx: {1, 2, 3, 4, 5, 6}\n"
     ]
    }
   ],
   "source": [
    "a = 1\n",
    "b = 2\n",
    "c = 3\n",
    "#d = a + \n",
    "#    b + \n",
    "#    c\n",
    "#print(d)\n",
    "\n",
    "#Cell In[10], line 4\n",
    "#    d = a +\n",
    "#            ^\n",
    "#SyntaxError: invalid syntax\n",
    "\n",
    "# 换行需要加 \\\n",
    "d = a + \\\n",
    "    b + \\\n",
    "    c\n",
    "print(\"d:\",d)\n",
    "\n",
    "# []、()、{} 内换行不需要加 \\\n",
    "ccc = [1,2,\n",
    "       3,4,\n",
    "       5,6]\n",
    "\n",
    "print(\"ccc:\",ccc)\n",
    "\n",
    "fff = (1,2,\n",
    "       3,4,\n",
    "       5,6)\n",
    "\n",
    "print(\"fff:\",fff)\n",
    "\n",
    "\n",
    "xxx = {1,2,\n",
    "       3,4,\n",
    "       5,6}\n",
    "\n",
    "print(\"xxx:\",xxx)\n"
   ]
  },
  {
   "cell_type": "markdown",
   "id": "2f10e0be-9601-4b57-8b01-f13dbeb04eb2",
   "metadata": {},
   "source": [
    "## 引号"
   ]
  },
  {
   "cell_type": "code",
   "execution_count": 54,
   "id": "d718babd-f581-4273-8a0d-9b81297c11e5",
   "metadata": {},
   "outputs": [
    {
     "name": "stdout",
     "output_type": "stream",
     "text": [
      "a1: I'm a big fan of Python.\n",
      "a2: 123456654321\n",
      "a3: We all know that 'A' and 'B' are two capital letters.\n",
      "a4: We all know that \"A\" and \"B\" are two capital letters.\n",
      "b1: We all know that 'A' and 'B' are two capital letters.\n",
      "b2: 1234567890\n",
      "c1: \n",
      "1\n",
      "2\n",
      "3\n",
      "4\n",
      "5\n",
      "6\n",
      "\n",
      "c2: \n",
      "12\n",
      "34\n",
      "56\n",
      "c3: 1 '2' 3 \"4\" 56\n"
     ]
    },
    {
     "data": {
      "text/plain": [
       "'\\n可以用来写\\n多行注释，里面的代码不会不执行\\nprint(\"c1:\",c1)\\nprint(\"c2:\",c2)\\nprint(\"c3:\",c3)\\n'"
      ]
     },
     "execution_count": 54,
     "metadata": {},
     "output_type": "execute_result"
    }
   ],
   "source": [
    "# 1、单引号 ''\n",
    "a1 = 'I\\'m a big fan of Python.'\n",
    "#换行要加 \\\n",
    "a2 = '123456\\\n",
    "654321'\n",
    "\n",
    "#里面的单引号需要加 \\ 转义符\n",
    "a3 =  'We all know that \\'A\\' and \\'B\\' are two capital letters.'\n",
    "\n",
    "#里面的双引号不用加 \\ 转义符\n",
    "a4 =  'We all know that \"A\" and \"B\" are two capital letters.'\n",
    "\n",
    "print(\"a1:\",a1)\n",
    "print(\"a2:\",a2)\n",
    "print(\"a3:\",a3)\n",
    "print(\"a4:\",a4)\n",
    "\n",
    "\n",
    "# 2、双引号\n",
    "# 里面的单引号可不加 \\ 转义符\n",
    "b1 = \"We all know that 'A' and 'B' are two capital letters.\"\n",
    "\n",
    "# 换行需要加 \\ \n",
    "b2 =  \"123456\\\n",
    "7890\"\n",
    "\n",
    "print(\"b1:\",b1)\n",
    "print(\"b2:\",b2)\n",
    "\n",
    "# 3、三引号 \"\"\" \"\"\"\n",
    "# 里面的换行不需要加 \\\n",
    "c1 = \"\"\"\n",
    "1\n",
    "2\n",
    "3\n",
    "4\n",
    "5\n",
    "6\n",
    "\"\"\"\n",
    "# 也可以加 \\n 实现换行效果\n",
    "c2 = \"\"\"\\n12\\n34\\n56\"\"\"\n",
    "\n",
    "# 里面的单引号和双引号都不需要加 \\ 转义符\n",
    "c3 = \"\"\"1 '2' 3 \"4\" 56\"\"\"\n",
    "\n",
    "print(\"c1:\",c1)\n",
    "print(\"c2:\",c2)\n",
    "print(\"c3:\",c3)\n",
    "\n",
    "\"\"\"\n",
    "可以用来写\n",
    "多行注释，里面的代码不会不执行\n",
    "print(\"c1:\",c1)\n",
    "print(\"c2:\",c2)\n",
    "print(\"c3:\",c3)\n",
    "\"\"\"\n"
   ]
  },
  {
   "cell_type": "markdown",
   "id": "25a8befd-c41f-48f5-b859-6f16f43839a2",
   "metadata": {},
   "source": [
    "## 输出函数与输入函数"
   ]
  },
  {
   "cell_type": "code",
   "execution_count": 56,
   "id": "af3b77f6-686d-4ee8-b262-85a0ccf1272d",
   "metadata": {},
   "outputs": [
    {
     "name": "stdin",
     "output_type": "stream",
     "text": [
      "密码： 123456\n"
     ]
    },
    {
     "name": "stdout",
     "output_type": "stream",
     "text": [
      "你的密码是： 123456\n"
     ]
    }
   ],
   "source": [
    "# print 和 input\n",
    "a = input(\"密码：\")\n",
    "print(\"你的密码是：\",a)"
   ]
  },
  {
   "cell_type": "markdown",
   "id": "40c45184-5564-4d14-88d7-5140193a5981",
   "metadata": {},
   "source": [
    "## 转义符"
   ]
  },
  {
   "cell_type": "code",
   "execution_count": 61,
   "id": "47f83e28-94fb-400b-9279-a657787704cf",
   "metadata": {},
   "outputs": [
    {
     "name": "stdout",
     "output_type": "stream",
     "text": [
      "a: 123\n",
      "456\n",
      "b: 123\t456\n",
      "456 123\n",
      "d: 12456\n",
      "e: 123\\456\n",
      "f: 123456\n"
     ]
    }
   ],
   "source": [
    "#1、\\n:换行\n",
    "print(\"a:\", \"123\\n456\")\n",
    "#2、\\t:制表符（退行）\n",
    "print(\"b:\", \"123\\t456\")\n",
    "#3、\\r:覆盖 456覆盖了 \"c:c \"\n",
    "print(\"c:c\", \"123\\r456\")\n",
    "#4、\\b:删除\n",
    "print(\"d:\", \"123\\b456\")\n",
    "#5、\\: 两个反斜杠表示一个斜杠\n",
    "print(\"e:\", \"123\\\\456\")\n",
    "#6、原字符\n",
    "print(\"f:\", \"123456\")"
   ]
  },
  {
   "cell_type": "markdown",
   "id": "252f9f38-b62f-40b3-ab4a-ca54a01f6421",
   "metadata": {},
   "source": [
    "## 变量&常量"
   ]
  },
  {
   "cell_type": "code",
   "execution_count": 64,
   "id": "3778a9e1-18e7-4eac-be0a-5f2b6148e629",
   "metadata": {},
   "outputs": [
    {
     "name": "stdout",
     "output_type": "stream",
     "text": [
      "a: 1\n",
      "b: 2\n",
      "c: 3\n",
      "DDD: 4\n"
     ]
    }
   ],
   "source": [
    "# 多变量赋值\n",
    "\n",
    "a,b,c = 1,2,3\n",
    "print(\"a:\",a)\n",
    "print(\"b:\",b)\n",
    "print(\"c:\",c)\n",
    "\n",
    "\n",
    "# 常量一般使用大写字母表示，python中没有类似java中的static final这样的关键字约束，不存在不可修改的常量，靠约定规则才确定常量\n",
    "\n",
    "DDD = 4\n",
    "\n",
    "print(\"DDD:\",DDD)"
   ]
  },
  {
   "cell_type": "markdown",
   "id": "83f3db27-5c4c-4a77-85b2-99f7b6f83bb3",
   "metadata": {},
   "source": [
    "## 数据类型\n",
    "\n",
    "***Python3 中有六个标准的数据类型：*** Number（数字）、String（字符串）、List（列表）、Tuple（元组）、Sets（集合）、Dictionary（字典）。\n",
    "\n",
    "***Python3 的六个标准数据类型中：***\n",
    "\n",
    "***不可变数据（3个）：*** Number（数字）、String（字符串）、Tuple（元组）\n",
    "\n",
    "***可变数据（3个）：*** List（列表）、Dictionary （字典）、Set（集合）。"
   ]
  },
  {
   "cell_type": "code",
   "execution_count": 65,
   "id": "49576ed5-a43b-4de3-b407-5672c3c91b3b",
   "metadata": {},
   "outputs": [
    {
     "name": "stdout",
     "output_type": "stream",
     "text": [
      "-100 100 True False 1.234 -1.324\n"
     ]
    }
   ],
   "source": [
    "# Number: int、float、bool\n",
    "# int \n",
    "a = -100\n",
    "b = 100\n",
    "c = True\n",
    "d = False\n",
    "e = 1.234\n",
    "f = -1.324\n",
    "print(a,b,c,d,e,f)\n"
   ]
  },
  {
   "cell_type": "markdown",
   "id": "94dce4da-11f0-422c-b275-e4753dfe395b",
   "metadata": {},
   "source": [
    "## 运算符"
   ]
  },
  {
   "cell_type": "code",
   "execution_count": 74,
   "id": "b330c449-aca4-4da1-a7c5-7edb193406fd",
   "metadata": {},
   "outputs": [
    {
     "name": "stdout",
     "output_type": "stream",
     "text": [
      "-----加法运算----- 9\n",
      "-----减法运算-- 3\n",
      "-----乘法运算---- 15\n",
      "-----除法运算----- 0.5\n",
      "-----除法运算,向下取余----- 0\n",
      "-----取模，返回两个数相除的余数----- 1\n",
      "-----幂运算，返回乘方结果----- 4\n"
     ]
    }
   ],
   "source": [
    "# 数值运算\n",
    "print(\"-----加法运算-----\",4+5)\n",
    "print(\"-----减法运算--\",6-3)\n",
    "print(\"-----乘法运算----\",3*5)\n",
    "print(\"-----除法运算-----\",2/4)\n",
    "print(\"-----除法运算,向下取余-----\",2//4) #向下取整\n",
    "print(\"-----取模，返回两个数相除的余数-----\",7%3) \n",
    "print(\"-----幂运算，返回乘方结果-----\",2**2)\n",
    "\n",
    "#比较运算：>、<、>=、<=、!=、== \n",
    "#(略，同java)"
   ]
  },
  {
   "cell_type": "code",
   "execution_count": null,
   "id": "85ef0f3c-e855-42a1-8fe1-47c133920733",
   "metadata": {},
   "outputs": [],
   "source": []
  }
 ],
 "metadata": {
  "kernelspec": {
   "display_name": "Python 3 (ipykernel)",
   "language": "python",
   "name": "python3"
  },
  "language_info": {
   "codemirror_mode": {
    "name": "ipython",
    "version": 3
   },
   "file_extension": ".py",
   "mimetype": "text/x-python",
   "name": "python",
   "nbconvert_exporter": "python",
   "pygments_lexer": "ipython3",
   "version": "3.12.4"
  }
 },
 "nbformat": 4,
 "nbformat_minor": 5
}
