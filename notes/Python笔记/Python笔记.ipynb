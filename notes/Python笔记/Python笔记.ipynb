{
 "cells": [
  {
   "cell_type": "markdown",
   "id": "1d355d49-d223-4fab-a13e-b4eed16f08e8",
   "metadata": {},
   "source": [
    "# Python笔记\n",
    "\n"
   ]
  },
  {
   "cell_type": "markdown",
   "id": "17b3e750-c0be-4350-92ed-cd5275a83edc",
   "metadata": {},
   "source": [
    "### python关键字"
   ]
  },
  {
   "cell_type": "code",
   "execution_count": 3,
   "id": "df59bde8-d28a-4fe8-83ef-449aad533701",
   "metadata": {},
   "outputs": [
    {
     "name": "stdout",
     "output_type": "stream",
     "text": [
      "['False', 'None', 'True', 'and', 'as', 'assert', 'async', 'await', 'break', 'class', 'continue', 'def', 'del', 'elif', 'else', 'except', 'finally', 'for', 'from', 'global', 'if', 'import', 'in', 'is', 'lambda', 'nonlocal', 'not', 'or', 'pass', 'raise', 'return', 'try', 'while', 'with', 'yield']\n"
     ]
    }
   ],
   "source": [
    "import keyword\n",
    "\n",
    "print(keyword.kwlist)\n",
    "\n",
    "# ['False', 'None', 'True', 'and', 'as', 'assert', 'async', 'await', 'break', 'class', \n",
    "#'continue', 'def', 'del', 'elif', 'else', 'except', 'finally', 'for', 'from', 'global', \n",
    "#'if', 'import', 'in', 'is', 'lambda', 'nonlocal', 'not', 'or', 'pass', 'raise', 'return', \n",
    "#'try', 'while', 'with', 'yield']\n"
   ]
  },
  {
   "cell_type": "markdown",
   "id": "2fb4ac17-b958-4e95-9672-07da360952ad",
   "metadata": {},
   "source": [
    "### 缩进"
   ]
  },
  {
   "cell_type": "code",
   "execution_count": 6,
   "id": "9fd78db3-c537-41b0-b249-c8e46ab260c4",
   "metadata": {},
   "outputs": [
    {
     "name": "stdout",
     "output_type": "stream",
     "text": [
      "hahah\n"
     ]
    }
   ],
   "source": [
    "if 2>1:\n",
    "#print(\"hahah\")\n",
    "\n",
    "#Cell In[5], line 2\n",
    "#    print(\"hahah\")\n",
    "#    ^\n",
    "#IndentationError: expected an indented block after 'if' statement on line 1\n",
    "\n",
    " print(\"hahah\")\n"
   ]
  },
  {
   "cell_type": "markdown",
   "id": "aa0fbad6-980a-44db-ba3c-5b4d2ad46407",
   "metadata": {},
   "source": [
    "### 多行语句"
   ]
  },
  {
   "cell_type": "code",
   "execution_count": 18,
   "id": "39b7caa7-28c5-43e1-8eb4-cb15e5cf46d3",
   "metadata": {},
   "outputs": [
    {
     "name": "stdout",
     "output_type": "stream",
     "text": [
      "d: 6\n",
      "ccc: [1, 2, 3, 4, 5, 6]\n",
      "fff: (1, 2, 3, 4, 5, 6)\n",
      "xxx: {1, 2, 3, 4, 5, 6}\n"
     ]
    }
   ],
   "source": [
    "a = 1\n",
    "b = 2\n",
    "c = 3\n",
    "#d = a + \n",
    "#    b + \n",
    "#    c\n",
    "#print(d)\n",
    "\n",
    "#Cell In[10], line 4\n",
    "#    d = a +\n",
    "#            ^\n",
    "#SyntaxError: invalid syntax\n",
    "\n",
    "d = a + \\\n",
    "    b + \\\n",
    "    c\n",
    "print(\"d:\",d)\n",
    "\n",
    "# 不需要加 \\\n",
    "ccc = [1,2,\n",
    "       3,4,\n",
    "       5,6]\n",
    "\n",
    "print(\"ccc:\",ccc)\n",
    "\n",
    "fff = (1,2,\n",
    "       3,4,\n",
    "       5,6)\n",
    "\n",
    "print(\"fff:\",fff)\n",
    "\n",
    "\n",
    "xxx = {1,2,\n",
    "       3,4,\n",
    "       5,6}\n",
    "\n",
    "print(\"xxx:\",xxx)\n"
   ]
  },
  {
   "cell_type": "code",
   "execution_count": null,
   "id": "d5453901-64e5-40f1-9b3d-9d456100bd18",
   "metadata": {},
   "outputs": [],
   "source": [
    "### 引号"
   ]
  }
 ],
 "metadata": {
  "kernelspec": {
   "display_name": "Python 3 (ipykernel)",
   "language": "python",
   "name": "python3"
  },
  "language_info": {
   "codemirror_mode": {
    "name": "ipython",
    "version": 3
   },
   "file_extension": ".py",
   "mimetype": "text/x-python",
   "name": "python",
   "nbconvert_exporter": "python",
   "pygments_lexer": "ipython3",
   "version": "3.12.4"
  }
 },
 "nbformat": 4,
 "nbformat_minor": 5
}
