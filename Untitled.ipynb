{
 "cells": [
  {
   "cell_type": "code",
   "execution_count": null,
   "id": "f994598d-3f0a-4c23-8593-eda034596e9e",
   "metadata": {},
   "outputs": [],
   "source": []
  }
 ],
 "metadata": {
  "kernelspec": {
   "display_name": "",
   "name": ""
  },
  "language_info": {
   "name": ""
  }
 },
 "nbformat": 4,
 "nbformat_minor": 5
}
