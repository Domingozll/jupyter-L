{
 "cells": [
  {
   "cell_type": "markdown",
   "id": "4e0b2e0b-0842-4a7f-a678-1e424e5a2e1d",
   "metadata": {},
   "source": [
    "# Mac相关配置\n",
    "\n",
    "### 环境变量设置\n",
    "\n",
    "vim ~/.zshrc\n",
    "\n",
    "source ~/.zshrc\n",
    "\n",
    "vim ~/.bash_profile\n",
    "\n",
    "source ~/.bash_profile"
   ]
  },
  {
   "cell_type": "code",
   "execution_count": null,
   "id": "54c8cd40-63c0-4d06-82b8-c40c0f9936e4",
   "metadata": {},
   "outputs": [],
   "source": []
  },
  {
   "cell_type": "code",
   "execution_count": null,
   "id": "f8ec6a47-c9fc-4f37-b712-f09688454f59",
   "metadata": {},
   "outputs": [],
   "source": []
  }
 ],
 "metadata": {
  "kernelspec": {
   "display_name": "Python 3 (ipykernel)",
   "language": "python",
   "name": "python3"
  },
  "language_info": {
   "codemirror_mode": {
    "name": "ipython",
    "version": 3
   },
   "file_extension": ".py",
   "mimetype": "text/x-python",
   "name": "python",
   "nbconvert_exporter": "python",
   "pygments_lexer": "ipython3",
   "version": "3.12.4"
  }
 },
 "nbformat": 4,
 "nbformat_minor": 5
}
